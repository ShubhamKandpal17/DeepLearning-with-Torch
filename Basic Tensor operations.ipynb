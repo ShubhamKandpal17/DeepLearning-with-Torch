{
  "nbformat": 4,
  "nbformat_minor": 0,
  "metadata": {
    "colab": {
      "provenance": []
    },
    "kernelspec": {
      "name": "python3",
      "display_name": "Python 3"
    },
    "language_info": {
      "name": "python"
    }
  },
  "cells": [
    {
      "cell_type": "code",
      "execution_count": null,
      "metadata": {
        "colab": {
          "base_uri": "https://localhost:8080/",
          "height": 35
        },
        "id": "DJJfHMzAJS_E",
        "outputId": "4902e360-cbbc-4d1e-d74e-df88e6ea7d80"
      },
      "outputs": [
        {
          "output_type": "execute_result",
          "data": {
            "text/plain": [
              "'2.0.1+cu118'"
            ],
            "application/vnd.google.colaboratory.intrinsic+json": {
              "type": "string"
            }
          },
          "metadata": {},
          "execution_count": 1
        }
      ],
      "source": [
        "import torch\n",
        "torch.__version__"
      ]
    },
    {
      "cell_type": "markdown",
      "source": [
        " Tensors : Tensors are a datastructure to store numeric values in multidimensional space"
      ],
      "metadata": {
        "id": "S2m6iKO2K_BX"
      }
    },
    {
      "cell_type": "markdown",
      "source": [
        "TENSORS CAN HAVE MULTIPLE DIMENSIONS BASED ON THE SQUARE BRACKETS\n",
        "\n",
        "\n",
        "\n"
      ],
      "metadata": {
        "id": "K5pEpEQ3MD0U"
      }
    },
    {
      "cell_type": "code",
      "source": [
        "scalar = torch.tensor(1)\n",
        "scalar"
      ],
      "metadata": {
        "colab": {
          "base_uri": "https://localhost:8080/"
        },
        "id": "GOJPIY7VKzgH",
        "outputId": "355f7d46-0498-45b3-d602-e7815cd04990"
      },
      "execution_count": null,
      "outputs": [
        {
          "output_type": "execute_result",
          "data": {
            "text/plain": [
              "tensor(1)"
            ]
          },
          "metadata": {},
          "execution_count": 2
        }
      ]
    },
    {
      "cell_type": "code",
      "source": [
        "scalar.ndim"
      ],
      "metadata": {
        "colab": {
          "base_uri": "https://localhost:8080/"
        },
        "id": "xD_ozJwZLVN6",
        "outputId": "b7fa24e9-f4bb-4786-96df-9804a4b8baca"
      },
      "execution_count": null,
      "outputs": [
        {
          "output_type": "execute_result",
          "data": {
            "text/plain": [
              "0"
            ]
          },
          "metadata": {},
          "execution_count": 3
        }
      ]
    },
    {
      "cell_type": "code",
      "source": [
        "vector = torch.tensor([7,7])\n",
        "vector"
      ],
      "metadata": {
        "colab": {
          "base_uri": "https://localhost:8080/"
        },
        "id": "oxQ-vKlfLikk",
        "outputId": "7f4477a3-0ff7-4291-f272-e6e3f99350c7"
      },
      "execution_count": null,
      "outputs": [
        {
          "output_type": "execute_result",
          "data": {
            "text/plain": [
              "tensor([7, 7])"
            ]
          },
          "metadata": {},
          "execution_count": 4
        }
      ]
    },
    {
      "cell_type": "code",
      "source": [
        "vector.shape"
      ],
      "metadata": {
        "colab": {
          "base_uri": "https://localhost:8080/"
        },
        "id": "FYC3BuClLtgE",
        "outputId": "eac9792f-bb2e-4509-b283-262f0aafc7ed"
      },
      "execution_count": null,
      "outputs": [
        {
          "output_type": "execute_result",
          "data": {
            "text/plain": [
              "torch.Size([2])"
            ]
          },
          "metadata": {},
          "execution_count": 5
        }
      ]
    },
    {
      "cell_type": "code",
      "source": [
        "matrix = torch.tensor(\n",
        "    [\n",
        "        [\n",
        "          [1,2],\n",
        "          [3,4]\n",
        "        ],\n",
        "        [\n",
        "          [6,7],\n",
        "          [9,8]\n",
        "          ]\n",
        "        ])\n",
        "matrix"
      ],
      "metadata": {
        "colab": {
          "base_uri": "https://localhost:8080/"
        },
        "id": "sc1EH9ClLv-p",
        "outputId": "0536e8c9-2a89-42e1-cc13-45dc26cdf9b1"
      },
      "execution_count": null,
      "outputs": [
        {
          "output_type": "execute_result",
          "data": {
            "text/plain": [
              "tensor([[[1, 2],\n",
              "         [3, 4]],\n",
              "\n",
              "        [[6, 7],\n",
              "         [9, 8]]])"
            ]
          },
          "metadata": {},
          "execution_count": 6
        }
      ]
    },
    {
      "cell_type": "code",
      "source": [
        "matrix.ndim"
      ],
      "metadata": {
        "colab": {
          "base_uri": "https://localhost:8080/"
        },
        "id": "d5kkzSMgL5b2",
        "outputId": "94016a83-6fc3-4c72-93f9-1b3202293408"
      },
      "execution_count": null,
      "outputs": [
        {
          "output_type": "execute_result",
          "data": {
            "text/plain": [
              "3"
            ]
          },
          "metadata": {},
          "execution_count": 7
        }
      ]
    },
    {
      "cell_type": "code",
      "source": [
        "matrix.shape\n"
      ],
      "metadata": {
        "colab": {
          "base_uri": "https://localhost:8080/"
        },
        "id": "j1xtZkDPaS7f",
        "outputId": "c21a7d13-56d3-4559-8a36-affdbd5d7a82"
      },
      "execution_count": null,
      "outputs": [
        {
          "output_type": "execute_result",
          "data": {
            "text/plain": [
              "torch.Size([2, 2, 2])"
            ]
          },
          "metadata": {},
          "execution_count": 8
        }
      ]
    },
    {
      "cell_type": "markdown",
      "source": [
        "#Random Tensor"
      ],
      "metadata": {
        "id": "qfczjWGwa0mm"
      }
    },
    {
      "cell_type": "code",
      "source": [
        "random_tensor = torch.rand(3,4)\n",
        "random_tensor"
      ],
      "metadata": {
        "colab": {
          "base_uri": "https://localhost:8080/"
        },
        "id": "zXJRzwpta3Gk",
        "outputId": "f9e16ae3-5905-4175-b970-590c2c9af871"
      },
      "execution_count": null,
      "outputs": [
        {
          "output_type": "execute_result",
          "data": {
            "text/plain": [
              "tensor([[0.1883, 0.7544, 0.7718, 0.5518],\n",
              "        [0.8553, 0.1605, 0.2735, 0.8635],\n",
              "        [0.2662, 0.5356, 0.9655, 0.4806]])"
            ]
          },
          "metadata": {},
          "execution_count": 9
        }
      ]
    },
    {
      "cell_type": "markdown",
      "source": [
        "Data Type and Changing Data Type\n",
        "(TypeCasting)"
      ],
      "metadata": {
        "id": "iT8LUTd4e1Mb"
      }
    },
    {
      "cell_type": "code",
      "source": [
        "dtype_tensor =torch.tensor([3.0,6.0,9.1],\n",
        "                           dtype =None,\n",
        "                           device = None,\n",
        "                           requires_grad= False)\n",
        "dtype_tensor"
      ],
      "metadata": {
        "colab": {
          "base_uri": "https://localhost:8080/"
        },
        "id": "hTUGNsCTdr9O",
        "outputId": "6b60e3d6-f54e-41a9-a798-36d90e694e4b"
      },
      "execution_count": null,
      "outputs": [
        {
          "output_type": "execute_result",
          "data": {
            "text/plain": [
              "tensor([3.0000, 6.0000, 9.1000])"
            ]
          },
          "metadata": {},
          "execution_count": 10
        }
      ]
    },
    {
      "cell_type": "code",
      "source": [
        "int_32_tensor = dtype_tensor.type(torch.int32)\n",
        "int_32_tensor"
      ],
      "metadata": {
        "colab": {
          "base_uri": "https://localhost:8080/"
        },
        "id": "6n79Db_heTp0",
        "outputId": "6ff3f238-b52b-45f3-f43e-9454f5b8a42a"
      },
      "execution_count": null,
      "outputs": [
        {
          "output_type": "execute_result",
          "data": {
            "text/plain": [
              "tensor([3, 6, 9], dtype=torch.int32)"
            ]
          },
          "metadata": {},
          "execution_count": 11
        }
      ]
    },
    {
      "cell_type": "code",
      "source": [
        "print(f\"Tensor is on device : {int_32_tensor.device}\")\n",
        "print(f\"Tensor is of the shape : {int_32_tensor.shape}\")\n",
        "print(f\"Tensor is of type :{int_32_tensor.dtype}\")"
      ],
      "metadata": {
        "colab": {
          "base_uri": "https://localhost:8080/"
        },
        "id": "zuwW3FLUfFfL",
        "outputId": "038f6ec2-1871-4e07-f060-b3b4b9dc0560"
      },
      "execution_count": null,
      "outputs": [
        {
          "output_type": "stream",
          "name": "stdout",
          "text": [
            "Tensor is on device : cpu\n",
            "Tensor is of the shape : torch.Size([3])\n",
            "Tensor is of type :torch.int32\n"
          ]
        }
      ]
    },
    {
      "cell_type": "markdown",
      "source": [
        "# Tensor have can operated on addition, multiplication, division and subtraction"
      ],
      "metadata": {
        "id": "Zi1HblINgIns"
      }
    },
    {
      "cell_type": "markdown",
      "source": [
        " Operation with Constants"
      ],
      "metadata": {
        "id": "-glgfpwEgIkT"
      }
    },
    {
      "cell_type": "code",
      "source": [
        "tensor =torch.tensor([1,2,3])\n",
        "print(tensor)\n",
        "print(f\"Tensor + 10 is : {tensor+10}\")\n",
        "print(torch.add(tensor,5))\n",
        "print(f\"Tensor * 10 is : {tensor * 10}\")\n",
        "print(torch.mul(tensor,5))\n",
        "print(f\"Tensor / 10 is : {tensor/10}\")\n",
        "print(torch.div(tensor,5))\n",
        "print(f\"Tensor - 10 is : {tensor-10}\")\n",
        "print(torch.sub(tensor,5))"
      ],
      "metadata": {
        "colab": {
          "base_uri": "https://localhost:8080/"
        },
        "id": "oywuIh-If33W",
        "outputId": "67ae853d-0359-484a-eb0e-901a49a3250d"
      },
      "execution_count": null,
      "outputs": [
        {
          "output_type": "stream",
          "name": "stdout",
          "text": [
            "tensor([1, 2, 3])\n",
            "Tensor + 10 is : tensor([11, 12, 13])\n",
            "tensor([6, 7, 8])\n",
            "Tensor * 10 is : tensor([10, 20, 30])\n",
            "tensor([ 5, 10, 15])\n",
            "Tensor / 10 is : tensor([0.1000, 0.2000, 0.3000])\n",
            "tensor([0.2000, 0.4000, 0.6000])\n",
            "Tensor - 10 is : tensor([-9, -8, -7])\n",
            "tensor([-4, -3, -2])\n"
          ]
        }
      ]
    },
    {
      "cell_type": "markdown",
      "source": [
        "Operation with other Tensors"
      ],
      "metadata": {
        "id": "RCtVhUcQhgmG"
      }
    },
    {
      "cell_type": "code",
      "source": [],
      "metadata": {
        "id": "scA6oAsZiaEu"
      },
      "execution_count": null,
      "outputs": []
    },
    {
      "cell_type": "code",
      "source": [
        "tensor"
      ],
      "metadata": {
        "colab": {
          "base_uri": "https://localhost:8080/"
        },
        "id": "t__BWMIWhmXm",
        "outputId": "86bff625-de9d-4207-d75e-4724cdee4803"
      },
      "execution_count": null,
      "outputs": [
        {
          "output_type": "execute_result",
          "data": {
            "text/plain": [
              "tensor([1, 2, 3])"
            ]
          },
          "metadata": {},
          "execution_count": 14
        }
      ]
    },
    {
      "cell_type": "code",
      "source": [
        "torch.mul(tensor,tensor)"
      ],
      "metadata": {
        "colab": {
          "base_uri": "https://localhost:8080/"
        },
        "id": "PaqUHqCOh3b0",
        "outputId": "52ea36d3-6c56-4956-b9e9-1bb8246866bd"
      },
      "execution_count": null,
      "outputs": [
        {
          "output_type": "execute_result",
          "data": {
            "text/plain": [
              "tensor([1, 4, 9])"
            ]
          },
          "metadata": {},
          "execution_count": 15
        }
      ]
    },
    {
      "cell_type": "markdown",
      "source": [
        "1. Torch.mul is multiplication and is not the same as matrix multiplication\n",
        "\n",
        "2. Torch.mul is faster than for loops as it is vectorized\n",
        "\n",
        "\n"
      ],
      "metadata": {
        "id": "ECwPsTUIh_XV"
      }
    },
    {
      "cell_type": "code",
      "source": [
        "tensorA= torch.tensor([[2,4],\n",
        "                      [7,3],\n",
        "                      [8,2]])\n",
        "tensorA\n"
      ],
      "metadata": {
        "colab": {
          "base_uri": "https://localhost:8080/"
        },
        "id": "Xe-uV40VjlXK",
        "outputId": "28b37371-5ffe-4216-b55d-4c8096322790"
      },
      "execution_count": null,
      "outputs": [
        {
          "output_type": "execute_result",
          "data": {
            "text/plain": [
              "tensor([[2, 4],\n",
              "        [7, 3],\n",
              "        [8, 2]])"
            ]
          },
          "metadata": {},
          "execution_count": 16
        }
      ]
    },
    {
      "cell_type": "code",
      "source": [
        "tensorB = torch.tensor([[5,1],\n",
        "                      [6,3],\n",
        "                      [4,7]])\n",
        "tensorB"
      ],
      "metadata": {
        "colab": {
          "base_uri": "https://localhost:8080/"
        },
        "id": "1prphGMxkDjJ",
        "outputId": "88a8cede-9caf-487f-bb85-4de31c408008"
      },
      "execution_count": null,
      "outputs": [
        {
          "output_type": "execute_result",
          "data": {
            "text/plain": [
              "tensor([[5, 1],\n",
              "        [6, 3],\n",
              "        [4, 7]])"
            ]
          },
          "metadata": {},
          "execution_count": 17
        }
      ]
    },
    {
      "cell_type": "code",
      "source": [
        "#transposing a tensor\n",
        "tensorB_t = tensorB.T\n",
        "tensorB_t"
      ],
      "metadata": {
        "colab": {
          "base_uri": "https://localhost:8080/"
        },
        "id": "YnrrKSAokKjW",
        "outputId": "e8c9a48e-3d54-4c66-a24a-a3f2610d18f9"
      },
      "execution_count": null,
      "outputs": [
        {
          "output_type": "execute_result",
          "data": {
            "text/plain": [
              "tensor([[5, 6, 4],\n",
              "        [1, 3, 7]])"
            ]
          },
          "metadata": {},
          "execution_count": 18
        }
      ]
    },
    {
      "cell_type": "markdown",
      "source": [
        "MATRIX MULTIPLICATION\n",
        "torch.matmul is the same as torch.mm"
      ],
      "metadata": {
        "id": "ihMEv_USki8Q"
      }
    },
    {
      "cell_type": "code",
      "source": [
        "torch.matmul(tensorA,tensorB_t)"
      ],
      "metadata": {
        "colab": {
          "base_uri": "https://localhost:8080/"
        },
        "id": "RVYW6O8gkibK",
        "outputId": "c524b2df-3590-4b1d-8b32-70b49db4dc95"
      },
      "execution_count": null,
      "outputs": [
        {
          "output_type": "execute_result",
          "data": {
            "text/plain": [
              "tensor([[14, 24, 36],\n",
              "        [38, 51, 49],\n",
              "        [42, 54, 46]])"
            ]
          },
          "metadata": {},
          "execution_count": 19
        }
      ]
    },
    {
      "cell_type": "code",
      "source": [
        "torch.mm(tensorA,tensorB_t)"
      ],
      "metadata": {
        "colab": {
          "base_uri": "https://localhost:8080/"
        },
        "id": "alFTt3oyma_N",
        "outputId": "b103df73-516b-4a66-96b7-7504d4714119"
      },
      "execution_count": null,
      "outputs": [
        {
          "output_type": "execute_result",
          "data": {
            "text/plain": [
              "tensor([[14, 24, 36],\n",
              "        [38, 51, 49],\n",
              "        [42, 54, 46]])"
            ]
          },
          "metadata": {},
          "execution_count": 20
        }
      ]
    },
    {
      "cell_type": "markdown",
      "source": [
        "# Statistics/Aggregation of Tensors"
      ],
      "metadata": {
        "id": "mCNF5wK6mk1V"
      }
    },
    {
      "cell_type": "code",
      "source": [
        "x= torch.arange(4,60,12)\n",
        "x"
      ],
      "metadata": {
        "colab": {
          "base_uri": "https://localhost:8080/"
        },
        "id": "swPrUGHGmquf",
        "outputId": "9d7a6af9-ab38-4b79-bce7-e1cda42568e7"
      },
      "execution_count": null,
      "outputs": [
        {
          "output_type": "execute_result",
          "data": {
            "text/plain": [
              "tensor([ 4, 16, 28, 40, 52])"
            ]
          },
          "metadata": {},
          "execution_count": 21
        }
      ]
    },
    {
      "cell_type": "code",
      "source": [
        "x.min(), torch.min(x)"
      ],
      "metadata": {
        "colab": {
          "base_uri": "https://localhost:8080/"
        },
        "id": "hNBDT7KInHEh",
        "outputId": "0e0e62e4-b7ff-4e2e-ccd7-f9382396cec1"
      },
      "execution_count": null,
      "outputs": [
        {
          "output_type": "execute_result",
          "data": {
            "text/plain": [
              "(tensor(4), tensor(4))"
            ]
          },
          "metadata": {},
          "execution_count": 22
        }
      ]
    },
    {
      "cell_type": "code",
      "source": [
        "torch.max(x), x.max()"
      ],
      "metadata": {
        "colab": {
          "base_uri": "https://localhost:8080/"
        },
        "id": "mn3QnMJlnQxn",
        "outputId": "c5a4c91b-8c6a-49f1-c6e4-b1e7fe8a2335"
      },
      "execution_count": null,
      "outputs": [
        {
          "output_type": "execute_result",
          "data": {
            "text/plain": [
              "(tensor(52), tensor(52))"
            ]
          },
          "metadata": {},
          "execution_count": 23
        }
      ]
    },
    {
      "cell_type": "code",
      "source": [
        "torch.sum(x), x.sum()"
      ],
      "metadata": {
        "colab": {
          "base_uri": "https://localhost:8080/"
        },
        "id": "Op5K2R_OnZKU",
        "outputId": "ac42cf4d-cb9a-4725-cc11-9e81580b3c61"
      },
      "execution_count": null,
      "outputs": [
        {
          "output_type": "execute_result",
          "data": {
            "text/plain": [
              "(tensor(140), tensor(140))"
            ]
          },
          "metadata": {},
          "execution_count": 24
        }
      ]
    },
    {
      "cell_type": "markdown",
      "source": [
        "#Mean only works with float type values tensors"
      ],
      "metadata": {
        "id": "akN2AEM2n1tp"
      }
    },
    {
      "cell_type": "code",
      "source": [
        "torch.mean(x.type(torch.float32)), x.type(torch.float32).mean()"
      ],
      "metadata": {
        "colab": {
          "base_uri": "https://localhost:8080/"
        },
        "id": "o-BC3kECndJh",
        "outputId": "da682cd1-f265-4c61-f04a-b285c5a8f9d7"
      },
      "execution_count": null,
      "outputs": [
        {
          "output_type": "execute_result",
          "data": {
            "text/plain": [
              "(tensor(28.), tensor(28.))"
            ]
          },
          "metadata": {},
          "execution_count": 25
        }
      ]
    },
    {
      "cell_type": "markdown",
      "source": [
        "Finding the position of min and max"
      ],
      "metadata": {
        "id": "QaDPrWrrn_dm"
      }
    },
    {
      "cell_type": "code",
      "source": [
        "x.argmin()"
      ],
      "metadata": {
        "colab": {
          "base_uri": "https://localhost:8080/"
        },
        "id": "5M1VwLbzoDt_",
        "outputId": "04d5786a-4651-4de1-d8eb-850c292c4329"
      },
      "execution_count": null,
      "outputs": [
        {
          "output_type": "execute_result",
          "data": {
            "text/plain": [
              "tensor(0)"
            ]
          },
          "metadata": {},
          "execution_count": 26
        }
      ]
    },
    {
      "cell_type": "code",
      "source": [
        "x.argmax()"
      ],
      "metadata": {
        "colab": {
          "base_uri": "https://localhost:8080/"
        },
        "id": "iSxP8LmYoLLl",
        "outputId": "76d5e7c3-1b82-4ef8-f22a-c0f519460d46"
      },
      "execution_count": null,
      "outputs": [
        {
          "output_type": "execute_result",
          "data": {
            "text/plain": [
              "tensor(4)"
            ]
          },
          "metadata": {},
          "execution_count": 27
        }
      ]
    },
    {
      "cell_type": "markdown",
      "source": [
        "#Reshaping Squeezing and Unsqueezing\n",
        "*   Reshaping : Reshapes an array\n",
        "*   View: Views input tensor\n",
        "*   Squeezing: Removes a `1` dimension from a tensor\n",
        "*   Unsqueezing : Adds a `1` dimension to a target vector\n",
        "*   Stacking : Stacks a tensor on top or side by side (increase dimensions)\n",
        "*  Permute: Returns a view of input with dimensions permuted in a certain way\n",
        "\n",
        "\n",
        "\n",
        "\n",
        "\n",
        "\n",
        "\n"
      ],
      "metadata": {
        "id": "FMfLdOQQokN8"
      }
    },
    {
      "cell_type": "code",
      "source": [
        "x = torch.arange(1.,13.)\n",
        "x, x.shape"
      ],
      "metadata": {
        "colab": {
          "base_uri": "https://localhost:8080/"
        },
        "id": "FyUNF0HPooB7",
        "outputId": "c2c4ba45-c08c-484a-de85-6501a9a10cd2"
      },
      "execution_count": null,
      "outputs": [
        {
          "output_type": "execute_result",
          "data": {
            "text/plain": [
              "(tensor([ 1.,  2.,  3.,  4.,  5.,  6.,  7.,  8.,  9., 10., 11., 12.]),\n",
              " torch.Size([12]))"
            ]
          },
          "metadata": {},
          "execution_count": 28
        }
      ]
    },
    {
      "cell_type": "code",
      "source": [
        "#Add a dimension\n",
        "x_reshaped = x.reshape(1,12)\n",
        "x_reshaped, x_reshaped.shape"
      ],
      "metadata": {
        "colab": {
          "base_uri": "https://localhost:8080/"
        },
        "id": "xoGzSWQsqAlj",
        "outputId": "54133928-2598-41b8-de2d-18a8914efc1d"
      },
      "execution_count": null,
      "outputs": [
        {
          "output_type": "execute_result",
          "data": {
            "text/plain": [
              "(tensor([[ 1.,  2.,  3.,  4.,  5.,  6.,  7.,  8.,  9., 10., 11., 12.]]),\n",
              " torch.Size([1, 12]))"
            ]
          },
          "metadata": {},
          "execution_count": 29
        }
      ]
    },
    {
      "cell_type": "code",
      "source": [
        "#Add a dimension\n",
        "# x_reshaped = x.reshape(12,1)\n",
        "# x_reshaped, x_reshaped.shape"
      ],
      "metadata": {
        "id": "NgluNQWIqUee"
      },
      "execution_count": null,
      "outputs": []
    },
    {
      "cell_type": "code",
      "source": [
        "#Note you cannot add or remove elements so a 12 element tensor can be reshaoed to (3,4)(2,6),(1,12) and similar only\n",
        "# x_reshaped = x.reshape(3,4)\n",
        "# x_reshaped, x_reshaped.shape"
      ],
      "metadata": {
        "id": "CHHThIdHql9M"
      },
      "execution_count": null,
      "outputs": []
    },
    {
      "cell_type": "code",
      "source": [
        "z= x.view(1,12)\n",
        "z,x,z.shape,x.shape"
      ],
      "metadata": {
        "colab": {
          "base_uri": "https://localhost:8080/"
        },
        "id": "Z4c9Le1JrDQe",
        "outputId": "6ffb5a2a-4b4c-4932-903e-d664f3b2b3fb"
      },
      "execution_count": null,
      "outputs": [
        {
          "output_type": "execute_result",
          "data": {
            "text/plain": [
              "(tensor([[ 1.,  2.,  3.,  4.,  5.,  6.,  7.,  8.,  9., 10., 11., 12.]]),\n",
              " tensor([ 1.,  2.,  3.,  4.,  5.,  6.,  7.,  8.,  9., 10., 11., 12.]),\n",
              " torch.Size([1, 12]),\n",
              " torch.Size([12]))"
            ]
          },
          "metadata": {},
          "execution_count": 32
        }
      ]
    },
    {
      "cell_type": "code",
      "source": [
        "#z and x share the same memory changing x will change z and vice versa\n",
        "z[:,0]=1\n",
        "z,x"
      ],
      "metadata": {
        "colab": {
          "base_uri": "https://localhost:8080/"
        },
        "id": "6JQ8MnObrQBI",
        "outputId": "57e5d176-766c-43c3-91bf-3fb4376826ad"
      },
      "execution_count": null,
      "outputs": [
        {
          "output_type": "execute_result",
          "data": {
            "text/plain": [
              "(tensor([[ 1.,  2.,  3.,  4.,  5.,  6.,  7.,  8.,  9., 10., 11., 12.]]),\n",
              " tensor([ 1.,  2.,  3.,  4.,  5.,  6.,  7.,  8.,  9., 10., 11., 12.]))"
            ]
          },
          "metadata": {},
          "execution_count": 33
        }
      ]
    },
    {
      "cell_type": "code",
      "source": [
        "#Stacking\n",
        "#vstack dim =0\n",
        "#hstack dim =1\n",
        "x_stacked = torch.stack([x,x,x,x],dim=0)\n",
        "x_stacked"
      ],
      "metadata": {
        "colab": {
          "base_uri": "https://localhost:8080/"
        },
        "id": "jzUc-WQHrmYx",
        "outputId": "f5a3f66a-0ce1-4fbc-dc25-d73fad07b7b4"
      },
      "execution_count": null,
      "outputs": [
        {
          "output_type": "execute_result",
          "data": {
            "text/plain": [
              "tensor([[ 1.,  2.,  3.,  4.,  5.,  6.,  7.,  8.,  9., 10., 11., 12.],\n",
              "        [ 1.,  2.,  3.,  4.,  5.,  6.,  7.,  8.,  9., 10., 11., 12.],\n",
              "        [ 1.,  2.,  3.,  4.,  5.,  6.,  7.,  8.,  9., 10., 11., 12.],\n",
              "        [ 1.,  2.,  3.,  4.,  5.,  6.,  7.,  8.,  9., 10., 11., 12.]])"
            ]
          },
          "metadata": {},
          "execution_count": 34
        }
      ]
    },
    {
      "cell_type": "code",
      "source": [
        "#Squeeze\n",
        "x_reshaped.squeeze()"
      ],
      "metadata": {
        "colab": {
          "base_uri": "https://localhost:8080/"
        },
        "id": "86QbKki-sTpn",
        "outputId": "8149f518-033e-4a02-d36b-bca5e19fc7fb"
      },
      "execution_count": null,
      "outputs": [
        {
          "output_type": "execute_result",
          "data": {
            "text/plain": [
              "tensor([ 1.,  2.,  3.,  4.,  5.,  6.,  7.,  8.,  9., 10., 11., 12.])"
            ]
          },
          "metadata": {},
          "execution_count": 35
        }
      ]
    },
    {
      "cell_type": "code",
      "source": [
        "x_reshaped.unsqueeze(dim=1), x_reshaped.ndim, x_reshaped.shape\n"
      ],
      "metadata": {
        "colab": {
          "base_uri": "https://localhost:8080/"
        },
        "id": "nKxYKwDFs0C3",
        "outputId": "3990427d-a03f-4e7b-fc70-d11c46fe2e95"
      },
      "execution_count": null,
      "outputs": [
        {
          "output_type": "execute_result",
          "data": {
            "text/plain": [
              "(tensor([[[ 1.,  2.,  3.,  4.,  5.,  6.,  7.,  8.,  9., 10., 11., 12.]]]),\n",
              " 2,\n",
              " torch.Size([1, 12]))"
            ]
          },
          "metadata": {},
          "execution_count": 56
        }
      ]
    },
    {
      "cell_type": "code",
      "source": [
        "#PERMUTE\n",
        "x_original = torch.rand(size=(224,224,3))\n",
        "\n",
        "x_original.shape"
      ],
      "metadata": {
        "colab": {
          "base_uri": "https://localhost:8080/"
        },
        "id": "oPT31hvKtzAu",
        "outputId": "5599e08d-8958-4e4b-c8ff-06ccbdb61893"
      },
      "execution_count": null,
      "outputs": [
        {
          "output_type": "execute_result",
          "data": {
            "text/plain": [
              "torch.Size([224, 224, 3])"
            ]
          },
          "metadata": {},
          "execution_count": 50
        }
      ]
    },
    {
      "cell_type": "code",
      "source": [
        "x_permuted = x_original.permute(2,0,1)\n",
        "x_permuted.shape"
      ],
      "metadata": {
        "colab": {
          "base_uri": "https://localhost:8080/"
        },
        "id": "wCbjXGHat4n1",
        "outputId": "c5cbf765-e1af-42fc-a961-6aaed68cf950"
      },
      "execution_count": null,
      "outputs": [
        {
          "output_type": "execute_result",
          "data": {
            "text/plain": [
              "torch.Size([3, 224, 224])"
            ]
          },
          "metadata": {},
          "execution_count": 51
        }
      ]
    },
    {
      "cell_type": "code",
      "source": [
        "x = torch.arange(1,10).reshape(1,3,3)"
      ],
      "metadata": {
        "colab": {
          "base_uri": "https://localhost:8080/"
        },
        "id": "-arHTv0uvWNm",
        "outputId": "d92c190e-9833-479f-cb16-d3e7bff4a4f9"
      },
      "execution_count": null,
      "outputs": [
        {
          "output_type": "execute_result",
          "data": {
            "text/plain": [
              "tensor([[[1, 2, 3],\n",
              "         [4, 5, 6],\n",
              "         [7, 8, 9]]])"
            ]
          },
          "metadata": {},
          "execution_count": 55
        }
      ]
    },
    {
      "cell_type": "code",
      "source": [
        "x_original[0,0,0]=3243\n",
        "x_original[0,0,0], x_permuted[0,0,0]"
      ],
      "metadata": {
        "colab": {
          "base_uri": "https://localhost:8080/"
        },
        "id": "t5aIn9UiuVpY",
        "outputId": "ad545cfb-865f-494b-ec1c-31996f4a5dcf"
      },
      "execution_count": null,
      "outputs": [
        {
          "output_type": "execute_result",
          "data": {
            "text/plain": [
              "(tensor(3243.), tensor(3243.))"
            ]
          },
          "metadata": {},
          "execution_count": 54
        }
      ]
    },
    {
      "cell_type": "markdown",
      "source": [
        "#Indexing tensors"
      ],
      "metadata": {
        "id": "H1DfC3mxvu-f"
      }
    },
    {
      "cell_type": "code",
      "source": [
        "x= torch.arange(1,10).reshape(1,3,3)\n",
        "x,x.shape"
      ],
      "metadata": {
        "colab": {
          "base_uri": "https://localhost:8080/"
        },
        "id": "xPXJ2oJYvWAV",
        "outputId": "1c13d4d8-aa29-409b-d32b-e37df2243d29"
      },
      "execution_count": null,
      "outputs": [
        {
          "output_type": "execute_result",
          "data": {
            "text/plain": [
              "(tensor([[[1, 2, 3],\n",
              "          [4, 5, 6],\n",
              "          [7, 8, 9]]]),\n",
              " torch.Size([1, 3, 3]))"
            ]
          },
          "metadata": {},
          "execution_count": 57
        }
      ]
    },
    {
      "cell_type": "code",
      "source": [
        "x[0]"
      ],
      "metadata": {
        "colab": {
          "base_uri": "https://localhost:8080/"
        },
        "id": "WvYVcfPxvViq",
        "outputId": "7499c762-fc2c-4df7-d04a-5f93e03df492"
      },
      "execution_count": null,
      "outputs": [
        {
          "output_type": "execute_result",
          "data": {
            "text/plain": [
              "tensor([[1, 2, 3],\n",
              "        [4, 5, 6],\n",
              "        [7, 8, 9]])"
            ]
          },
          "metadata": {},
          "execution_count": 58
        }
      ]
    },
    {
      "cell_type": "code",
      "source": [
        "x[0,0]"
      ],
      "metadata": {
        "colab": {
          "base_uri": "https://localhost:8080/"
        },
        "id": "oejQ_Lv2wFR1",
        "outputId": "f11f4e3f-af0e-4489-d6a9-1122eeb9f2fd"
      },
      "execution_count": null,
      "outputs": [
        {
          "output_type": "execute_result",
          "data": {
            "text/plain": [
              "tensor([1, 2, 3])"
            ]
          },
          "metadata": {},
          "execution_count": 59
        }
      ]
    },
    {
      "cell_type": "code",
      "source": [
        "x[0][2][2]"
      ],
      "metadata": {
        "colab": {
          "base_uri": "https://localhost:8080/"
        },
        "id": "AdCbiDa-wIgl",
        "outputId": "29726d72-e3e0-414a-ef9a-4085c3030b5e"
      },
      "execution_count": null,
      "outputs": [
        {
          "output_type": "execute_result",
          "data": {
            "text/plain": [
              "tensor(9)"
            ]
          },
          "metadata": {},
          "execution_count": 61
        }
      ]
    },
    {
      "cell_type": "markdown",
      "source": [
        "Use : to select all values [n,:,m] is different from [n][:][m]"
      ],
      "metadata": {
        "id": "uNNtGP8gwnoe"
      }
    },
    {
      "cell_type": "code",
      "source": [
        "x[0][:][2] , x[0,:,2]"
      ],
      "metadata": {
        "colab": {
          "base_uri": "https://localhost:8080/"
        },
        "id": "cCQbxgn0wnb_",
        "outputId": "a2f91e7c-0b85-459f-d5b5-c55bac47116f"
      },
      "execution_count": null,
      "outputs": [
        {
          "output_type": "execute_result",
          "data": {
            "text/plain": [
              "(tensor([7, 8, 9]), tensor([3, 6, 9]))"
            ]
          },
          "metadata": {},
          "execution_count": 67
        }
      ]
    },
    {
      "cell_type": "markdown",
      "source": [
        "#NUMPY\n",
        "\n",
        "convert numpy to pytorch\n",
        "torch.from_numpy(ndarray)\n",
        "\n",
        "* convert pytorch to numpy\n",
        "* torch.Tensor.numpy.()\n",
        "\n",
        "\n"
      ],
      "metadata": {
        "id": "8hPSpOatx6v3"
      }
    },
    {
      "cell_type": "code",
      "source": [
        "import numpy as np\n",
        "array = np.arange(1.0,8.0)\n",
        "tensor = torch.from_numpy(array).type(torch.float32) #as default is float 64\n",
        "array, tensor , tensor.dtype"
      ],
      "metadata": {
        "colab": {
          "base_uri": "https://localhost:8080/"
        },
        "id": "dlGE0fDcx9yq",
        "outputId": "02f2b89c-9cb4-48eb-e78b-200c632310a3"
      },
      "execution_count": null,
      "outputs": [
        {
          "output_type": "execute_result",
          "data": {
            "text/plain": [
              "(array([1., 2., 3., 4., 5., 6., 7.]),\n",
              " tensor([1., 2., 3., 4., 5., 6., 7.]),\n",
              " torch.float32)"
            ]
          },
          "metadata": {},
          "execution_count": 72
        }
      ]
    },
    {
      "cell_type": "code",
      "source": [
        "#changing array memory\n",
        "array = array+1\n",
        "tensor , array\n",
        "#does not share same memory"
      ],
      "metadata": {
        "colab": {
          "base_uri": "https://localhost:8080/"
        },
        "id": "fXODfrqrzBxw",
        "outputId": "6afe9dea-773d-4a52-8998-fb16da2a87b7"
      },
      "execution_count": null,
      "outputs": [
        {
          "output_type": "execute_result",
          "data": {
            "text/plain": [
              "(tensor([1., 2., 3., 4., 5., 6., 7.]), array([3., 4., 5., 6., 7., 8., 9.]))"
            ]
          },
          "metadata": {},
          "execution_count": 74
        }
      ]
    },
    {
      "cell_type": "code",
      "source": [
        "#tensor to numpy\n",
        "tensor = torch.ones(7)\n",
        "numpy_tensor = tensor.numpy()\n",
        "tensor,numpy_tensor"
      ],
      "metadata": {
        "colab": {
          "base_uri": "https://localhost:8080/"
        },
        "id": "8xEdFd-BzNvl",
        "outputId": "8308822a-d3c0-43ff-85c0-ce1d69691fcf"
      },
      "execution_count": null,
      "outputs": [
        {
          "output_type": "execute_result",
          "data": {
            "text/plain": [
              "(tensor([1., 1., 1., 1., 1., 1., 1.]),\n",
              " array([1., 1., 1., 1., 1., 1., 1.], dtype=float32))"
            ]
          },
          "metadata": {},
          "execution_count": 76
        }
      ]
    },
    {
      "cell_type": "markdown",
      "source": [
        "Also does not share memory\n"
      ],
      "metadata": {
        "id": "pGko54LJzgCM"
      }
    },
    {
      "cell_type": "code",
      "source": [
        "import torch\n",
        "import random\n",
        "\n",
        "# # Set the random seed\n",
        "RANDOM_SEED=42\n",
        "torch.manual_seed(seed=RANDOM_SEED)\n",
        "random_tensor_C = torch.rand(3, 4)\n",
        "\n",
        "# Have to reset the seed every time a new rand() is called\n",
        "torch.random.manual_seed(seed=RANDOM_SEED)\n",
        "random_tensor_D = torch.rand(3, 4)\n",
        "\n",
        "print(f\"Tensor C:\\n{random_tensor_C}\\n\")\n",
        "print(f\"Tensor D:\\n{random_tensor_D}\\n\")\n",
        "print(f\"Does Tensor C equal Tensor D? (anywhere)\")\n",
        "random_tensor_C == random_tensor_D"
      ],
      "metadata": {
        "colab": {
          "base_uri": "https://localhost:8080/"
        },
        "id": "S5EwkGQnzjZi",
        "outputId": "6e5911ab-cd21-4404-f207-64646d75f13e"
      },
      "execution_count": null,
      "outputs": [
        {
          "output_type": "stream",
          "name": "stdout",
          "text": [
            "Tensor C:\n",
            "tensor([[0.8823, 0.9150, 0.3829, 0.9593],\n",
            "        [0.3904, 0.6009, 0.2566, 0.7936],\n",
            "        [0.9408, 0.1332, 0.9346, 0.5936]])\n",
            "\n",
            "Tensor D:\n",
            "tensor([[0.8823, 0.9150, 0.3829, 0.9593],\n",
            "        [0.3904, 0.6009, 0.2566, 0.7936],\n",
            "        [0.9408, 0.1332, 0.9346, 0.5936]])\n",
            "\n",
            "Does Tensor C equal Tensor D? (anywhere)\n"
          ]
        },
        {
          "output_type": "execute_result",
          "data": {
            "text/plain": [
              "tensor([[True, True, True, True],\n",
              "        [True, True, True, True],\n",
              "        [True, True, True, True]])"
            ]
          },
          "metadata": {},
          "execution_count": 77
        }
      ]
    }
  ]
}