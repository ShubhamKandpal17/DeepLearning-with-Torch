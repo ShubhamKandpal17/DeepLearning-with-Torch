{
  "nbformat": 4,
  "nbformat_minor": 0,
  "metadata": {
    "colab": {
      "provenance": [],
      "gpuType": "T4"
    },
    "kernelspec": {
      "name": "python3",
      "display_name": "Python 3"
    },
    "language_info": {
      "name": "python"
    },
    "accelerator": "GPU"
  },
  "cells": [
    {
      "cell_type": "code",
      "execution_count": null,
      "metadata": {
        "id": "DtpckB22KKKa"
      },
      "outputs": [],
      "source": [
        "import torch\n",
        "from torch import nn\n",
        "import matplotlib.pyplot as plt\n"
      ]
    },
    {
      "cell_type": "code",
      "source": [
        "device = \"cuda\" if torch.cuda.is_available() else \"cpu\"\n",
        "print(f\"Using {device}\")"
      ],
      "metadata": {
        "colab": {
          "base_uri": "https://localhost:8080/"
        },
        "id": "vj8tsPuDKaBI",
        "outputId": "6cd0cb35-4cfa-40f7-96fa-4cf065c88191"
      },
      "execution_count": null,
      "outputs": [
        {
          "output_type": "stream",
          "name": "stdout",
          "text": [
            "Using cuda\n"
          ]
        }
      ]
    },
    {
      "cell_type": "markdown",
      "source": [
        "Creating DATA for linear regression"
      ],
      "metadata": {
        "id": "F0ffBPB0KpTR"
      }
    },
    {
      "cell_type": "code",
      "source": [
        "weight = 0.8\n",
        "bias = 0.52\n",
        "\n",
        "start = 0\n",
        "end = 1.5\n",
        "step = 0.03\n",
        "\n",
        "x = torch.arange(start, end , step).unsqueeze(dim =1)\n",
        "y = weight *x +bias\n",
        "x[:10], y[:10]\n"
      ],
      "metadata": {
        "colab": {
          "base_uri": "https://localhost:8080/"
        },
        "id": "htYWyPYkKsEm",
        "outputId": "d163f775-fb22-45b4-9f27-aff109c15488"
      },
      "execution_count": null,
      "outputs": [
        {
          "output_type": "execute_result",
          "data": {
            "text/plain": [
              "(tensor([[0.0000],\n",
              "         [0.0300],\n",
              "         [0.0600],\n",
              "         [0.0900],\n",
              "         [0.1200],\n",
              "         [0.1500],\n",
              "         [0.1800],\n",
              "         [0.2100],\n",
              "         [0.2400],\n",
              "         [0.2700]]),\n",
              " tensor([[0.5200],\n",
              "         [0.5440],\n",
              "         [0.5680],\n",
              "         [0.5920],\n",
              "         [0.6160],\n",
              "         [0.6400],\n",
              "         [0.6640],\n",
              "         [0.6880],\n",
              "         [0.7120],\n",
              "         [0.7360]]))"
            ]
          },
          "metadata": {},
          "execution_count": 4
        }
      ]
    },
    {
      "cell_type": "code",
      "source": [
        "split = int(0.8* len(x))\n",
        "x_train, y_train = x[:split],y[:split]\n",
        "x_test, y_test =x[split:], y[split:]\n",
        "len(x_train), len(y_train) , len(x_test), len(y_test)"
      ],
      "metadata": {
        "colab": {
          "base_uri": "https://localhost:8080/"
        },
        "id": "U48gTuVZLUgE",
        "outputId": "9d55118b-6afe-4b93-ee5b-e94091e94993"
      },
      "execution_count": null,
      "outputs": [
        {
          "output_type": "execute_result",
          "data": {
            "text/plain": [
              "(40, 40, 10, 10)"
            ]
          },
          "metadata": {},
          "execution_count": 5
        }
      ]
    },
    {
      "cell_type": "code",
      "source": [
        "def plot_predictions(train_data = x_train,\n",
        "                     train_labels= y_train,\n",
        "                     test_data = x_test,\n",
        "                     test_labels = y_test,\n",
        "                     predictions = None):\n",
        "  plt.figure(figsize=(10,7))\n",
        "  plt.scatter(train_data,train_labels,c=\"b\",s=4,label=\"Training Data\")\n",
        "\n",
        "  plt.scatter(test_data,test_labels, c=\"g\",s=4,label = \"Testing data\")\n",
        "\n",
        "\n",
        "  if predictions is not None:\n",
        "    plt.scatter(test_data,predictions, c=\"r\",s=4,label=\"predictions\")\n",
        "\n",
        "  plt.legend(prop={\"size\" : 14})"
      ],
      "metadata": {
        "id": "SZcMfjEWMRZq"
      },
      "execution_count": null,
      "outputs": []
    },
    {
      "cell_type": "code",
      "source": [
        "plot_predictions(x_train,y_train, x_test,y_test)"
      ],
      "metadata": {
        "colab": {
          "base_uri": "https://localhost:8080/",
          "height": 524
        },
        "id": "4Upb5Xk-LUXe",
        "outputId": "e6222980-95f0-4ac6-bede-4206d10c04a7"
      },
      "execution_count": null,
      "outputs": [
        {
          "output_type": "display_data",
          "data": {
            "text/plain": [
              "<Figure size 1000x700 with 1 Axes>"
            ],
            "image/png": "[encoded data removed]"
          },
          "metadata": {}
        }
      ]
    },
    {
      "cell_type": "code",
      "source": [
        "class LinearRegressionModelV2(nn.Module):\n",
        "  def __init__(self):\n",
        "    super().__init__()\n",
        "    self.linear_layer = nn.Linear(in_features=1,\n",
        "                                  out_features =1)\n",
        "  def forward(self,x: torch.Tensor)->torch.Tensor:\n",
        "    return self.linear_layer(x)\n",
        "\n"
      ],
      "metadata": {
        "id": "GV9pP3jUMb2K"
      },
      "execution_count": null,
      "outputs": []
    },
    {
      "cell_type": "code",
      "source": [
        "torch.manual_seed(42)\n",
        "model = LinearRegressionModelV2()\n",
        "model.state_dict()\n"
      ],
      "metadata": {
        "colab": {
          "base_uri": "https://localhost:8080/"
        },
        "id": "UTzlSzkwN7PD",
        "outputId": "1475692f-55b7-48ca-c2c9-700e791cb5e7"
      },
      "execution_count": null,
      "outputs": [
        {
          "output_type": "execute_result",
          "data": {
            "text/plain": [
              "OrderedDict([('linear_layer.weight', tensor([[0.7645]])),\n",
              "             ('linear_layer.bias', tensor([0.8300]))])"
            ]
          },
          "metadata": {},
          "execution_count": 13
        }
      ]
    },
    {
      "cell_type": "code",
      "source": [
        "with torch.inference_mode():\n",
        "  y_preds = model(x_test)\n",
        "\n",
        "y_preds"
      ],
      "metadata": {
        "colab": {
          "base_uri": "https://localhost:8080/"
        },
        "id": "OLtX0pXuOubl",
        "outputId": "eb639ba5-7b07-467f-aec1-3a70ba63fcf8"
      },
      "execution_count": null,
      "outputs": [
        {
          "output_type": "execute_result",
          "data": {
            "text/plain": [
              "tensor([[1.7475],\n",
              "        [1.7704],\n",
              "        [1.7933],\n",
              "        [1.8163],\n",
              "        [1.8392],\n",
              "        [1.8621],\n",
              "        [1.8851],\n",
              "        [1.9080],\n",
              "        [1.9309],\n",
              "        [1.9539]])"
            ]
          },
          "metadata": {},
          "execution_count": 14
        }
      ]
    },
    {
      "cell_type": "code",
      "source": [
        "model.to(device)"
      ],
      "metadata": {
        "colab": {
          "base_uri": "https://localhost:8080/"
        },
        "id": "uTO91ke9hJa9",
        "outputId": "adde56e7-d587-4cfd-dcb5-0c219a265652"
      },
      "execution_count": null,
      "outputs": [
        {
          "output_type": "execute_result",
          "data": {
            "text/plain": [
              "LinearRegressionModelV2(\n",
              "  (linear_layer): Linear(in_features=1, out_features=1, bias=True)\n",
              ")"
            ]
          },
          "metadata": {},
          "execution_count": 16
        }
      ]
    },
    {
      "cell_type": "code",
      "source": [
        "loss_fn = nn.MSELoss()\n",
        "optimiser = torch.optim.SGD(params = model.parameters(),\n",
        "                        lr =0.01)\n",
        "\n"
      ],
      "metadata": {
        "id": "BEKpBHV0PZV4"
      },
      "execution_count": null,
      "outputs": []
    },
    {
      "cell_type": "code",
      "source": [
        "epoch_count = []\n",
        "loss_values = []\n",
        "test_loss_values = []"
      ],
      "metadata": {
        "id": "dYz96O4bQQIH"
      },
      "execution_count": null,
      "outputs": []
    },
    {
      "cell_type": "code",
      "source": [
        "epochs=300\n",
        "x_train = x_train.to(device)\n",
        "y_train = y_train.to(device)\n",
        "x_test = x_test.to(device)\n",
        "y_test = y_test.to(device)\n",
        "\n",
        "for epoch in range(epochs):\n",
        "  model.train()\n",
        "\n",
        "  y_pred=model(x_train)\n",
        "  loss = loss_fn(y_pred,y_train)\n",
        "  optimiser.zero_grad()\n",
        "  loss.backward()\n",
        "  optimiser.step()\n",
        "\n",
        "  model.eval()\n",
        "  with torch.inference_mode():\n",
        "    test_pred = model(x_test)\n",
        "\n",
        "    test_loss = loss_fn(test_pred,y_test.type(torch.float))\n",
        "\n",
        "  if epoch%10==0:\n",
        "    # epoch_count.append(epoch)\n",
        "    # loss_values.append(loss.detach().numpy())\n",
        "    # test_loss_values.append(test_loss.detach().numpy())\n",
        "    print(f\"Epoch : {epoch} and loss : {loss}\")\n",
        "    print(model.state_dict())\n",
        "\n"
      ],
      "metadata": {
        "colab": {
          "base_uri": "https://localhost:8080/"
        },
        "id": "y0XOK2e6QGyu",
        "outputId": "80d62f75-0548-4b3b-ce9e-0d7eff7f85fd"
      },
      "execution_count": null,
      "outputs": [
        {
          "output_type": "stream",
          "name": "stdout",
          "text": [
            "Epoch : 0 and loss : 2.5438788725296035e-05\n",
            "OrderedDict([('linear_layer.weight', tensor([[0.7856]], device='cuda:0')), ('linear_layer.bias', tensor([0.5292], device='cuda:0'))])\n",
            "Epoch : 10 and loss : 2.4565932108089328e-05\n",
            "OrderedDict([('linear_layer.weight', tensor([[0.7859]], device='cuda:0')), ('linear_layer.bias', tensor([0.5290], device='cuda:0'))])\n",
            "Epoch : 20 and loss : 2.3722725018160418e-05\n",
            "OrderedDict([('linear_layer.weight', tensor([[0.7861]], device='cuda:0')), ('linear_layer.bias', tensor([0.5289], device='cuda:0'))])\n",
            "Epoch : 30 and loss : 2.2908659957465716e-05\n",
            "OrderedDict([('linear_layer.weight', tensor([[0.7864]], device='cuda:0')), ('linear_layer.bias', tensor([0.5287], device='cuda:0'))])\n",
            "Epoch : 40 and loss : 2.2122456357465126e-05\n",
            "OrderedDict([('linear_layer.weight', tensor([[0.7866]], device='cuda:0')), ('linear_layer.bias', tensor([0.5286], device='cuda:0'))])\n",
            "Epoch : 50 and loss : 2.136336661351379e-05\n",
            "OrderedDict([('linear_layer.weight', tensor([[0.7868]], device='cuda:0')), ('linear_layer.bias', tensor([0.5284], device='cuda:0'))])\n",
            "Epoch : 60 and loss : 2.063009924313519e-05\n",
            "OrderedDict([('linear_layer.weight', tensor([[0.7871]], device='cuda:0')), ('linear_layer.bias', tensor([0.5283], device='cuda:0'))])\n",
            "Epoch : 70 and loss : 1.992215584323276e-05\n",
            "OrderedDict([('linear_layer.weight', tensor([[0.7873]], device='cuda:0')), ('linear_layer.bias', tensor([0.5281], device='cuda:0'))])\n",
            "Epoch : 80 and loss : 1.92384632100584e-05\n",
            "OrderedDict([('linear_layer.weight', tensor([[0.7875]], device='cuda:0')), ('linear_layer.bias', tensor([0.5280], device='cuda:0'))])\n",
            "Epoch : 90 and loss : 1.857815914263483e-05\n",
            "OrderedDict([('linear_layer.weight', tensor([[0.7877]], device='cuda:0')), ('linear_layer.bias', tensor([0.5279], device='cuda:0'))])\n",
            "Epoch : 100 and loss : 1.7940708858077414e-05\n",
            "OrderedDict([('linear_layer.weight', tensor([[0.7879]], device='cuda:0')), ('linear_layer.bias', tensor([0.5277], device='cuda:0'))])\n",
            "Epoch : 110 and loss : 1.732502096274402e-05\n",
            "OrderedDict([('linear_layer.weight', tensor([[0.7882]], device='cuda:0')), ('linear_layer.bias', tensor([0.5276], device='cuda:0'))])\n",
            "Epoch : 120 and loss : 1.673061342444271e-05\n",
            "OrderedDict([('linear_layer.weight', tensor([[0.7884]], device='cuda:0')), ('linear_layer.bias', tensor([0.5275], device='cuda:0'))])\n",
            "Epoch : 130 and loss : 1.615640940144658e-05\n",
            "OrderedDict([('linear_layer.weight', tensor([[0.7886]], device='cuda:0')), ('linear_layer.bias', tensor([0.5273], device='cuda:0'))])\n",
            "Epoch : 140 and loss : 1.560206146677956e-05\n",
            "OrderedDict([('linear_layer.weight', tensor([[0.7888]], device='cuda:0')), ('linear_layer.bias', tensor([0.5272], device='cuda:0'))])\n",
            "Epoch : 150 and loss : 1.5066623745951802e-05\n",
            "OrderedDict([('linear_layer.weight', tensor([[0.7890]], device='cuda:0')), ('linear_layer.bias', tensor([0.5271], device='cuda:0'))])\n",
            "Epoch : 160 and loss : 1.4549629668181296e-05\n",
            "OrderedDict([('linear_layer.weight', tensor([[0.7891]], device='cuda:0')), ('linear_layer.bias', tensor([0.5270], device='cuda:0'))])\n",
            "Epoch : 170 and loss : 1.405037892254768e-05\n",
            "OrderedDict([('linear_layer.weight', tensor([[0.7893]], device='cuda:0')), ('linear_layer.bias', tensor([0.5268], device='cuda:0'))])\n",
            "Epoch : 180 and loss : 1.3568251233664341e-05\n",
            "OrderedDict([('linear_layer.weight', tensor([[0.7895]], device='cuda:0')), ('linear_layer.bias', tensor([0.5267], device='cuda:0'))])\n",
            "Epoch : 190 and loss : 1.3102529010211583e-05\n",
            "OrderedDict([('linear_layer.weight', tensor([[0.7897]], device='cuda:0')), ('linear_layer.bias', tensor([0.5266], device='cuda:0'))])\n",
            "Epoch : 200 and loss : 1.2653006706386805e-05\n",
            "OrderedDict([('linear_layer.weight', tensor([[0.7899]], device='cuda:0')), ('linear_layer.bias', tensor([0.5265], device='cuda:0'))])\n",
            "Epoch : 210 and loss : 1.2218682968523353e-05\n",
            "OrderedDict([('linear_layer.weight', tensor([[0.7901]], device='cuda:0')), ('linear_layer.bias', tensor([0.5264], device='cuda:0'))])\n",
            "Epoch : 220 and loss : 1.1799257663369644e-05\n",
            "OrderedDict([('linear_layer.weight', tensor([[0.7902]], device='cuda:0')), ('linear_layer.bias', tensor([0.5263], device='cuda:0'))])\n",
            "Epoch : 230 and loss : 1.1394153261790052e-05\n",
            "OrderedDict([('linear_layer.weight', tensor([[0.7904]], device='cuda:0')), ('linear_layer.bias', tensor([0.5262], device='cuda:0'))])\n",
            "Epoch : 240 and loss : 1.1003104191331659e-05\n",
            "OrderedDict([('linear_layer.weight', tensor([[0.7906]], device='cuda:0')), ('linear_layer.bias', tensor([0.5260], device='cuda:0'))])\n",
            "Epoch : 250 and loss : 1.062558567355154e-05\n",
            "OrderedDict([('linear_layer.weight', tensor([[0.7907]], device='cuda:0')), ('linear_layer.bias', tensor([0.5259], device='cuda:0'))])\n",
            "Epoch : 260 and loss : 1.0260803719575051e-05\n",
            "OrderedDict([('linear_layer.weight', tensor([[0.7909]], device='cuda:0')), ('linear_layer.bias', tensor([0.5258], device='cuda:0'))])\n",
            "Epoch : 270 and loss : 9.908696483762469e-06\n",
            "OrderedDict([('linear_layer.weight', tensor([[0.7910]], device='cuda:0')), ('linear_layer.bias', tensor([0.5257], device='cuda:0'))])\n",
            "Epoch : 280 and loss : 9.56869735091459e-06\n",
            "OrderedDict([('linear_layer.weight', tensor([[0.7912]], device='cuda:0')), ('linear_layer.bias', tensor([0.5256], device='cuda:0'))])\n",
            "Epoch : 290 and loss : 9.240324288839474e-06\n",
            "OrderedDict([('linear_layer.weight', tensor([[0.7913]], device='cuda:0')), ('linear_layer.bias', tensor([0.5255], device='cuda:0'))])\n"
          ]
        }
      ]
    },
    {
      "cell_type": "code",
      "source": [
        "model.eval()\n",
        "\n",
        "with torch.inference_mode():\n",
        "  y_preds = model(x_test)\n",
        "y_preds"
      ],
      "metadata": {
        "colab": {
          "base_uri": "https://localhost:8080/"
        },
        "id": "OKnSSicpixnU",
        "outputId": "06def45b-623c-4340-b406-7851e8fe7eab"
      },
      "execution_count": null,
      "outputs": [
        {
          "output_type": "execute_result",
          "data": {
            "text/plain": [
              "tensor([[1.4752],\n",
              "        [1.4990],\n",
              "        [1.5227],\n",
              "        [1.5465],\n",
              "        [1.5702],\n",
              "        [1.5940],\n",
              "        [1.6177],\n",
              "        [1.6415],\n",
              "        [1.6652],\n",
              "        [1.6889]], device='cuda:0')"
            ]
          },
          "metadata": {},
          "execution_count": 41
        }
      ]
    },
    {
      "cell_type": "code",
      "source": [
        "print(model.state_dict())\n",
        "plot_predictions(predictions=y_preds.to(\"cpu\"))"
      ],
      "metadata": {
        "colab": {
          "base_uri": "https://localhost:8080/",
          "height": 562
        },
        "id": "SL1gda9pPSyo",
        "outputId": "b5ae7794-a605-422f-b737-df641f501b2f"
      },
      "execution_count": null,
      "outputs": [
        {
          "output_type": "stream",
          "name": "stdout",
          "text": [
            "OrderedDict([('linear_layer.weight', tensor([[0.7915]], device='cuda:0')), ('linear_layer.bias', tensor([0.5255], device='cuda:0'))])\n"
          ]
        },
        {
          "output_type": "display_data",
          "data": {
            "text/plain": [
              "<Figure size 1000x700 with 1 Axes>"
            ],
            "image/png": "[encoded data removed]"
          },
          "metadata": {}
        }
      ]
    },
    {
      "cell_type": "markdown",
      "source": [
        "Saving and loading"
      ],
      "metadata": {
        "id": "WV_o6dinjxZC"
      }
    },
    {
      "cell_type": "code",
      "source": [
        "from pathlib import Path\n",
        "MODEL_PATH = Path('models')\n",
        "MODEL_PATH.mkdir(parents = True,exist_ok=True)\n",
        "\n",
        "MODEL_NAME = \"we_go_again.pth\"\n",
        "MODEL_SAVE_PATH = MODEL_PATH/MODEL_NAME\n",
        "\n",
        "print(f\"Saving model {MODEL_NAME}\")\n",
        "torch.save(obj = model.state_dict(), f = MODEL_SAVE_PATH)"
      ],
      "metadata": {
        "colab": {
          "base_uri": "https://localhost:8080/"
        },
        "id": "vrSjVqC7Z_b8",
        "outputId": "278a2f1d-6f6e-4a6c-b99a-4ebc1e77a784"
      },
      "execution_count": null,
      "outputs": [
        {
          "output_type": "stream",
          "name": "stdout",
          "text": [
            "Saving model we_go_again.pth\n"
          ]
        }
      ]
    },
    {
      "cell_type": "code",
      "source": [
        "loaded_model = LinearRegressionModelV2()\n",
        "\n",
        "loaded_model.load_state_dict(torch.load(MODEL_SAVE_PATH))\n"
      ],
      "metadata": {
        "colab": {
          "base_uri": "https://localhost:8080/"
        },
        "id": "i8l1Jcfvkz21",
        "outputId": "dbab2cfd-ce5a-448a-b60e-242847154e11"
      },
      "execution_count": null,
      "outputs": [
        {
          "output_type": "execute_result",
          "data": {
            "text/plain": [
              "<All keys matched successfully>"
            ]
          },
          "metadata": {},
          "execution_count": 51
        }
      ]
    },
    {
      "cell_type": "code",
      "source": [
        "loaded_model.to(\"cuda\")"
      ],
      "metadata": {
        "id": "YY8nW1vNlkLF",
        "outputId": "3e359701-21fc-41f0-c4ce-8da13dd95eaf",
        "colab": {
          "base_uri": "https://localhost:8080/"
        }
      },
      "execution_count": null,
      "outputs": [
        {
          "output_type": "execute_result",
          "data": {
            "text/plain": [
              "LinearRegressionModelV2(\n",
              "  (linear_layer): Linear(in_features=1, out_features=1, bias=True)\n",
              ")"
            ]
          },
          "metadata": {},
          "execution_count": 52
        }
      ]
    },
    {
      "cell_type": "code",
      "source": [
        "with torch.inference_mode():\n",
        "  loaded_preds = loaded_model(x_test)\n",
        "loaded_preds"
      ],
      "metadata": {
        "colab": {
          "base_uri": "https://localhost:8080/"
        },
        "id": "sWxZapf2lGwh",
        "outputId": "50e56f0c-a029-4906-c488-06bcefa2202b"
      },
      "execution_count": null,
      "outputs": [
        {
          "output_type": "execute_result",
          "data": {
            "text/plain": [
              "tensor([[1.4752],\n",
              "        [1.4990],\n",
              "        [1.5227],\n",
              "        [1.5465],\n",
              "        [1.5702],\n",
              "        [1.5940],\n",
              "        [1.6177],\n",
              "        [1.6415],\n",
              "        [1.6652],\n",
              "        [1.6889]], device='cuda:0')"
            ]
          },
          "metadata": {},
          "execution_count": 53
        }
      ]
    },
    {
      "cell_type": "code",
      "source": [
        "y_preds == loaded_preds"
      ],
      "metadata": {
        "colab": {
          "base_uri": "https://localhost:8080/"
        },
        "id": "tJYY_lZrlU1j",
        "outputId": "4803a4b5-060c-4dac-95ff-cc435328abc7"
      },
      "execution_count": null,
      "outputs": [
        {
          "output_type": "execute_result",
          "data": {
            "text/plain": [
              "tensor([[True],\n",
              "        [True],\n",
              "        [True],\n",
              "        [True],\n",
              "        [True],\n",
              "        [True],\n",
              "        [True],\n",
              "        [True],\n",
              "        [True],\n",
              "        [True]], device='cuda:0')"
            ]
          },
          "metadata": {},
          "execution_count": 54
        }
      ]
    },
    {
      "cell_type": "code",
      "source": [],
      "metadata": {
        "id": "Cw3b5csSlUwJ"
      },
      "execution_count": null,
      "outputs": []
    }
  ]
}